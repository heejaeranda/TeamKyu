{
 "cells": [
  {
   "cell_type": "code",
   "execution_count": 10,
   "metadata": {
    "collapsed": true
   },
   "outputs": [],
   "source": [
    "import os\n",
    "from openslide import OpenSlide\n",
    "import cv2\n",
    "import xml.etree.ElementTree as ET\n",
    "import numpy as np\n",
    "import pandas as pd"
   ]
  },
  {
   "cell_type": "code",
   "execution_count": 11,
   "outputs": [
    {
     "name": "stdout",
     "output_type": "stream",
     "text": [
      "number of coordinates in annotation :  50139\n"
     ]
    }
   ],
   "source": [
    "src = '/home/kuki2070s2/PycharmProjects/TeamKyua/Michael/5619_Wirtz.Denis_OTS-19_5619-009.svs'\n",
    "# svss = [_ for _ in os.listdir(src) if _.endswith('svs')]\n",
    "# svs = svss[0]\n",
    "svs = src\n",
    "\n",
    "svs = OpenSlide(os.path.join(src,svs))\n",
    "\n",
    "# xmls = [_ for _ in os.listdir(src) if _.endswith('xml')]\n",
    "xml = '/home/kuki2070s2/PycharmProjects/TeamKyua/Michael/5619_Wirtz.Denis_OTS-19_5619-009.xml'\n",
    "\n",
    "tree = ET.parse(os.path.join(src,xml))\n",
    "root = tree.getroot()\n",
    "# pre-allocate arrays of interest\n",
    "x = np.array([])\n",
    "y = np.array([])\n",
    "obj = np.array([])\n",
    "label = np.array([])\n",
    "\n",
    "for Annotation in root.iter('Annotation'):\n",
    "  for Region in Annotation.iter('Region'):\n",
    "     xx = np.array([int(Vertex.get('X')) for Vertex in Region.iter('Vertex')])\n",
    "     yy = np.array([int(Vertex.get('Y')) for Vertex in Region.iter('Vertex')])\n",
    "     objj = np.array([int(Region.get('Id'))]*len(xx))\n",
    "     labell = np.array([int(Annotation.get('Id'))]*len(xx))\n",
    "     x = np.concatenate((x,xx),axis=None)\n",
    "     y = np.concatenate((y,yy),axis=None)\n",
    "     obj = np.concatenate((obj,objj),axis=None)\n",
    "     label = np.concatenate((label,labell),axis=None)\n",
    "print('number of coordinates in annotation : ',len(x))\n",
    "mdict = {'x':x,'y':y,'objID':obj,'label':label}\n",
    "df = pd.DataFrame(mdict)"
   ],
   "metadata": {
    "collapsed": false,
    "pycharm": {
     "name": "#%%\n"
    }
   }
  },
  {
   "cell_type": "code",
   "execution_count": 12,
   "outputs": [
    {
     "name": "stderr",
     "output_type": "stream",
     "text": [
      "/home/kuki2070s2/anaconda3/envs/TF2Shared/lib/python3.7/site-packages/ipykernel_launcher.py:3: UserWarning: Boolean Series key will be reindexed to match DataFrame index.\n",
      "  This is separate from the ipykernel package so we can avoid doing imports until\n"
     ]
    },
    {
     "ename": "TypeError",
     "evalue": "can't multiply sequence by non-int of type 'numpy.float64'",
     "output_type": "error",
     "traceback": [
      "\u001B[0;31m---------------------------------------------------------------------------\u001B[0m",
      "\u001B[0;31mTypeError\u001B[0m                                 Traceback (most recent call last)",
      "\u001B[0;32m<ipython-input-12-3f9498cae7a5>\u001B[0m in \u001B[0;36m<module>\u001B[0;34m\u001B[0m\n\u001B[1;32m      9\u001B[0m         \u001B[0mymax\u001B[0m \u001B[0;34m=\u001B[0m \u001B[0mnp\u001B[0m\u001B[0;34m.\u001B[0m\u001B[0mmax\u001B[0m\u001B[0;34m(\u001B[0m\u001B[0my\u001B[0m\u001B[0;34m)\u001B[0m\u001B[0;34m\u001B[0m\u001B[0;34m\u001B[0m\u001B[0m\n\u001B[1;32m     10\u001B[0m         \u001B[0msize\u001B[0m \u001B[0;34m=\u001B[0m \u001B[0;34m(\u001B[0m\u001B[0mxmax\u001B[0m\u001B[0;34m-\u001B[0m\u001B[0mxmin\u001B[0m\u001B[0;34m,\u001B[0m\u001B[0mymax\u001B[0m\u001B[0;34m-\u001B[0m\u001B[0mymin\u001B[0m\u001B[0;34m)\u001B[0m\u001B[0;34m\u001B[0m\u001B[0;34m\u001B[0m\u001B[0m\n\u001B[0;32m---> 11\u001B[0;31m         \u001B[0mregion\u001B[0m \u001B[0;34m=\u001B[0m \u001B[0msvs\u001B[0m\u001B[0;34m.\u001B[0m\u001B[0mread_region\u001B[0m\u001B[0;34m(\u001B[0m\u001B[0mlocation\u001B[0m\u001B[0;34m=\u001B[0m\u001B[0;34m(\u001B[0m\u001B[0mint\u001B[0m\u001B[0;34m(\u001B[0m\u001B[0mxmin\u001B[0m\u001B[0;34m)\u001B[0m\u001B[0;34m,\u001B[0m\u001B[0mint\u001B[0m\u001B[0;34m(\u001B[0m\u001B[0mymin\u001B[0m\u001B[0;34m)\u001B[0m\u001B[0;34m)\u001B[0m\u001B[0;34m,\u001B[0m\u001B[0mlevel\u001B[0m\u001B[0;34m=\u001B[0m\u001B[0;36m0\u001B[0m\u001B[0;34m,\u001B[0m\u001B[0msize\u001B[0m\u001B[0;34m=\u001B[0m\u001B[0msize\u001B[0m\u001B[0;34m)\u001B[0m\u001B[0;34m\u001B[0m\u001B[0;34m\u001B[0m\u001B[0m\n\u001B[0m\u001B[1;32m     12\u001B[0m         \u001B[0mvert\u001B[0m \u001B[0;34m=\u001B[0m \u001B[0mnp\u001B[0m\u001B[0;34m.\u001B[0m\u001B[0marray\u001B[0m\u001B[0;34m(\u001B[0m\u001B[0;34m[\u001B[0m\u001B[0;34m[\u001B[0m\u001B[0mi\u001B[0m\u001B[0;34m-\u001B[0m\u001B[0mxmin\u001B[0m\u001B[0;34m,\u001B[0m\u001B[0mj\u001B[0m\u001B[0;34m-\u001B[0m\u001B[0mymin\u001B[0m\u001B[0;34m]\u001B[0m \u001B[0;32mfor\u001B[0m \u001B[0mi\u001B[0m\u001B[0;34m,\u001B[0m\u001B[0mj\u001B[0m \u001B[0;32min\u001B[0m \u001B[0mzip\u001B[0m\u001B[0;34m(\u001B[0m\u001B[0mx\u001B[0m\u001B[0;34m,\u001B[0m\u001B[0my\u001B[0m\u001B[0;34m)\u001B[0m\u001B[0;34m]\u001B[0m\u001B[0;34m)\u001B[0m\u001B[0;34m.\u001B[0m\u001B[0mastype\u001B[0m\u001B[0;34m(\u001B[0m\u001B[0mnp\u001B[0m\u001B[0;34m.\u001B[0m\u001B[0mint32\u001B[0m\u001B[0;34m)\u001B[0m\u001B[0;34m\u001B[0m\u001B[0;34m\u001B[0m\u001B[0m\n\u001B[1;32m     13\u001B[0m         \u001B[0mmask\u001B[0m \u001B[0;34m=\u001B[0m \u001B[0mnp\u001B[0m\u001B[0;34m.\u001B[0m\u001B[0mzeros\u001B[0m\u001B[0;34m(\u001B[0m\u001B[0msize\u001B[0m\u001B[0;34m)\u001B[0m\u001B[0;34m\u001B[0m\u001B[0;34m\u001B[0m\u001B[0m\n",
      "\u001B[0;32m~/anaconda3/envs/TF2Shared/lib/python3.7/site-packages/openslide/__init__.py\u001B[0m in \u001B[0;36mread_region\u001B[0;34m(self, location, level, size)\u001B[0m\n\u001B[1;32m    221\u001B[0m         function is not premultiplied.\"\"\"\n\u001B[1;32m    222\u001B[0m         return lowlevel.read_region(self._osr, location[0], location[1],\n\u001B[0;32m--> 223\u001B[0;31m                 level, size[0], size[1])\n\u001B[0m\u001B[1;32m    224\u001B[0m \u001B[0;34m\u001B[0m\u001B[0m\n\u001B[1;32m    225\u001B[0m \u001B[0;34m\u001B[0m\u001B[0m\n",
      "\u001B[0;32m~/anaconda3/envs/TF2Shared/lib/python3.7/site-packages/openslide/lowlevel.py\u001B[0m in \u001B[0;36mread_region\u001B[0;34m(slide, x, y, level, w, h)\u001B[0m\n\u001B[1;32m    256\u001B[0m         \u001B[0;31m# PIL.Image.frombuffer() would raise an exception\u001B[0m\u001B[0;34m\u001B[0m\u001B[0;34m\u001B[0m\u001B[0;34m\u001B[0m\u001B[0m\n\u001B[1;32m    257\u001B[0m         \u001B[0;32mreturn\u001B[0m \u001B[0mPIL\u001B[0m\u001B[0;34m.\u001B[0m\u001B[0mImage\u001B[0m\u001B[0;34m.\u001B[0m\u001B[0mnew\u001B[0m\u001B[0;34m(\u001B[0m\u001B[0;34m'RGBA'\u001B[0m\u001B[0;34m,\u001B[0m \u001B[0;34m(\u001B[0m\u001B[0mw\u001B[0m\u001B[0;34m,\u001B[0m \u001B[0mh\u001B[0m\u001B[0;34m)\u001B[0m\u001B[0;34m)\u001B[0m\u001B[0;34m\u001B[0m\u001B[0;34m\u001B[0m\u001B[0m\n\u001B[0;32m--> 258\u001B[0;31m     \u001B[0mbuf\u001B[0m \u001B[0;34m=\u001B[0m \u001B[0;34m(\u001B[0m\u001B[0mw\u001B[0m \u001B[0;34m*\u001B[0m \u001B[0mh\u001B[0m \u001B[0;34m*\u001B[0m \u001B[0mc_uint32\u001B[0m\u001B[0;34m)\u001B[0m\u001B[0;34m(\u001B[0m\u001B[0;34m)\u001B[0m\u001B[0;34m\u001B[0m\u001B[0;34m\u001B[0m\u001B[0m\n\u001B[0m\u001B[1;32m    259\u001B[0m     \u001B[0m_read_region\u001B[0m\u001B[0;34m(\u001B[0m\u001B[0mslide\u001B[0m\u001B[0;34m,\u001B[0m \u001B[0mbuf\u001B[0m\u001B[0;34m,\u001B[0m \u001B[0mx\u001B[0m\u001B[0;34m,\u001B[0m \u001B[0my\u001B[0m\u001B[0;34m,\u001B[0m \u001B[0mlevel\u001B[0m\u001B[0;34m,\u001B[0m \u001B[0mw\u001B[0m\u001B[0;34m,\u001B[0m \u001B[0mh\u001B[0m\u001B[0;34m)\u001B[0m\u001B[0;34m\u001B[0m\u001B[0;34m\u001B[0m\u001B[0m\n\u001B[1;32m    260\u001B[0m     \u001B[0;32mreturn\u001B[0m \u001B[0m_load_image\u001B[0m\u001B[0;34m(\u001B[0m\u001B[0mbuf\u001B[0m\u001B[0;34m,\u001B[0m \u001B[0;34m(\u001B[0m\u001B[0mw\u001B[0m\u001B[0;34m,\u001B[0m \u001B[0mh\u001B[0m\u001B[0;34m)\u001B[0m\u001B[0;34m)\u001B[0m\u001B[0;34m\u001B[0m\u001B[0;34m\u001B[0m\u001B[0m\n",
      "\u001B[0;31mTypeError\u001B[0m: can't multiply sequence by non-int of type 'numpy.float64'"
     ]
    }
   ],
   "source": [
    "for classidx, classid in enumerate(np.unique(df['label'])):\n",
    "    for objidx, objid in enumerate(np.unique(df['objID'])):\n",
    "        object = df[df['label']==classid][df['objID']==objid]\n",
    "        x = object['x']\n",
    "        y = object['y']\n",
    "        xmin = np.min(x)\n",
    "        xmax = np.max(x)\n",
    "        ymin = np.min(y)\n",
    "        ymax = np.max(y)\n",
    "        size = (xmax-xmin,ymax-ymin)\n",
    "        region = svs.read_region(location=(int(xmin),int(ymin)),level=0,size=size)\n",
    "        vert = np.array([[i-xmin,j-ymin] for i,j in zip(x,y)]).astype(np.int32)\n",
    "        mask = np.zeros(size)\n",
    "        cv2.fillpoly(mask,[vert],color=255)\n",
    "        mask.save('class'+str(classidx)+'obj'+str(objidx)+'.tif')\n",
    "        region.save('class'+str(classidx)+'obj'+str(objidx)+'.jpg')\n"
   ],
   "metadata": {
    "collapsed": false,
    "pycharm": {
     "name": "#%%\n"
    }
   }
  }
 ],
 "metadata": {
  "kernelspec": {
   "display_name": "Python 3",
   "language": "python",
   "name": "python3"
  },
  "language_info": {
   "codemirror_mode": {
    "name": "ipython",
    "version": 2
   },
   "file_extension": ".py",
   "mimetype": "text/x-python",
   "name": "python",
   "nbconvert_exporter": "python",
   "pygments_lexer": "ipython2",
   "version": "2.7.6"
  }
 },
 "nbformat": 4,
 "nbformat_minor": 0
}