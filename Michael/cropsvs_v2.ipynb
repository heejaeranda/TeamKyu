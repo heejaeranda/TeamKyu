{
 "cells": [
  {
   "cell_type": "code",
   "execution_count": null,
   "metadata": {
    "collapsed": true
   },
   "outputs": [],
   "source": [
    "import os\n",
    "from openslide import OpenSlide\n",
    "import cv2\n",
    "import xml.etree.ElementTree as ET\n",
    "import numpy as np\n",
    "import pandas as pd"
   ]
  },
  {
   "cell_type": "code",
   "execution_count": null,
   "outputs": [],
   "source": [
    "src = 'Michael'\n",
    "svss = [_ for _ in os.listdir(src) if _.endswith('svs')]\n",
    "svs = svss[0]\n",
    "\n",
    "svs = OpenSlide(os.path.join(src,svs))\n",
    "\n",
    "xmls = [_ for _ in os.listdir(src) if _.endswith('xml')]\n",
    "xml = xmls[0]\n",
    "\n",
    "tree = ET.parse(os.path.join(src,xml))\n",
    "root = tree.getroot()\n",
    "# pre-allocate arrays of interest\n",
    "x = np.array([])\n",
    "y = np.array([])\n",
    "obj = np.array([])\n",
    "label = np.array([])\n",
    "\n",
    "for Annotation in root.iter('Annotation'):\n",
    "  for Region in Annotation.iter('Region'):\n",
    "     xx = np.array([int(Vertex.get('X')) for Vertex in Region.iter('Vertex')])\n",
    "     yy = np.array([int(Vertex.get('Y')) for Vertex in Region.iter('Vertex')])\n",
    "     objj = np.array([int(Region.get('Id'))]*len(xx))\n",
    "     labell = np.array([int(Annotation.get('Id'))]*len(xx))\n",
    "     x = np.concatenate((x,xx),axis=None)\n",
    "     y = np.concatenate((y,yy),axis=None)\n",
    "     obj = np.concatenate((obj,objj),axis=None)\n",
    "     label = np.concatenate((label,labell),axis=None)\n",
    "print('number of coordinates in annotation : ',len(x))\n",
    "mdict = {'x':x,'y':y,'objID':obj,'label':label}\n",
    "df = pd.DataFrame(mdict)"
   ],
   "metadata": {
    "collapsed": false,
    "pycharm": {
     "name": "#%%\n"
    }
   }
  },
  {
   "cell_type": "code",
   "execution_count": null,
   "outputs": [],
   "source": [
    "for classidx, classid in enumerate(np.unique(df['label'])):\n",
    "    for objidx, objid in enumerate(np.unique(df['objID'])):\n",
    "        object = df[df['label']==classid][df['objID']==objid]\n",
    "        x = object['x']\n",
    "        y = object['y']\n",
    "        xmin = np.min(x)\n",
    "        xmax = np.max(x)\n",
    "        ymin = np.min(y)\n",
    "        ymax = np.max(y)\n",
    "        size = (xmax-xmin,ymax-ymin)\n",
    "        region = svs.read_region(location=(xmin,ymin),level=0,size=size)\n",
    "        vert = np.array([[i-xmin,j-ymin] for i,j in zip(x,y)]).astype(np.int32)\n",
    "        mask = np.zeros(size)\n",
    "        cv2.fillpoly(mask,[vert],color=255)\n",
    "        mask.save('class'+str(classidx)+'obj'+str(objidx)+'.tif')\n",
    "        region.save('class'+str(classidx)+'obj'+str(objidx)+'.jpg')\n"
   ],
   "metadata": {
    "collapsed": false,
    "pycharm": {
     "name": "#%%\n"
    }
   }
  }
 ],
 "metadata": {
  "kernelspec": {
   "display_name": "Python 3",
   "language": "python",
   "name": "python3"
  },
  "language_info": {
   "codemirror_mode": {
    "name": "ipython",
    "version": 2
   },
   "file_extension": ".py",
   "mimetype": "text/x-python",
   "name": "python",
   "nbconvert_exporter": "python",
   "pygments_lexer": "ipython2",
   "version": "2.7.6"
  }
 },
 "nbformat": 4,
 "nbformat_minor": 0
}