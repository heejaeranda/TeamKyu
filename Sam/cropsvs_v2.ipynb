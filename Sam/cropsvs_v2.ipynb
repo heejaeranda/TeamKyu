{
 "cells": [
  {
   "cell_type": "code",
   "execution_count": 65,
   "metadata": {
    "collapsed": true
   },
   "outputs": [],
   "source": [
    "import os\n",
    "from openslide import OpenSlide\n",
    "import cv2\n",
    "import xml.etree.ElementTree as ET\n",
    "import numpy as np\n",
    "import pandas as pd\n",
    "import openslide\n",
    "from PIL import Image\n",
    "import math\n"
   ]
  },
  {
   "cell_type": "code",
   "execution_count": 66,
   "outputs": [
    {
     "name": "stdout",
     "output_type": "stream",
     "text": [
      "<class 'str'>\n",
      "number of coordinates in annotation :  50139\n"
     ]
    }
   ],
   "source": [
    "src = '/home/kuki2070s2/PycharmProjects/TeamKyu/Michael/5619_Wirtz.Denis_OTS-19_5619-009.svs'\n",
    "#svss = [_ for _ in os.listdir(src) if _.endswith('svs')]\n",
    "#svs = svss[0]\n",
    "svs = src\n",
    "print(type(src))\n",
    "\n",
    "\n",
    "#svs = OpenSlide(os.path.join(src,svs))\n",
    "\n",
    "# xmls = [_ for _ in os.listdir(src) if _.endswith('xml')]\n",
    "xml = '/home/kuki2070s2/PycharmProjects/TeamKyu/Michael/5619_Wirtz.Denis_OTS-19_5619-009.xml'\n",
    "\n",
    "tree = ET.parse(os.path.join(src,xml))\n",
    "root = tree.getroot()\n",
    "# pre-allocate arrays of interest\n",
    "x = np.array([])\n",
    "y = np.array([])\n",
    "obj = np.array([])\n",
    "label = np.array([])\n",
    "\n",
    "for Annotation in root.iter('Annotation'):\n",
    "  for Region in Annotation.iter('Region'):\n",
    "     xx = np.array([int(Vertex.get('X')) for Vertex in Region.iter('Vertex')])\n",
    "     yy = np.array([int(Vertex.get('Y')) for Vertex in Region.iter('Vertex')])\n",
    "     objj = np.array([int(Region.get('Id'))]*len(xx))\n",
    "     labell = np.array([int(Annotation.get('Id'))]*len(xx))\n",
    "     x = np.concatenate((x,xx),axis=None)\n",
    "     y = np.concatenate((y,yy),axis=None)\n",
    "     obj = np.concatenate((obj,objj),axis=None)\n",
    "     label = np.concatenate((label,labell),axis=None)\n",
    "print('number of coordinates in annotation : ',len(x))\n",
    "mdict = {'x':x,'y':y,'objID':obj,'label':label}\n",
    "df = pd.DataFrame(mdict)"
   ],
   "metadata": {
    "collapsed": false,
    "pycharm": {
     "name": "#%%\n"
    }
   }
  },
  {
   "cell_type": "code",
   "execution_count": 67,
   "outputs": [
    {
     "name": "stderr",
     "output_type": "stream",
     "text": [
      "/home/kuki2070s2/anaconda3/envs/TF2Shared/lib/python3.7/site-packages/ipykernel_launcher.py:4: UserWarning: Boolean Series key will be reindexed to match DataFrame index.\n",
      "  after removing the cwd from sys.path.\n"
     ]
    }
   ],
   "source": [
    "for classidx, classid in enumerate(np.unique(df['label'])[0:1]):\n",
    "    for objidx, objid in enumerate(np.unique(df['objID'])[0:1]):\n",
    "        #if np.isnan(classid) and np.isnan(classid) != True:\n",
    "            object = df[df['label']==classid][df['objID']==objid]\n",
    "            x = object['x']\n",
    "            y = object['y']\n",
    "            xmin = np.min(x)\n",
    "            xmax = np.max(x)\n",
    "            ymin = np.min(y)\n",
    "            ymax = np.max(y)\n",
    "            width = xmax-xmin\n",
    "            height = ymax - ymin\n",
    "            if np.isnan(width): continue\n",
    "            size = (int(width),int(height))\n",
    "            img= openslide.OpenSlide(svs)\n",
    "            region = img.read_region(location=(int(xmin),int(ymin)),level=0,size=size)\n",
    "            vert = np.array([[i-xmin,j-ymin] for i,j in zip(x,y)]).astype(np.int32)\n",
    "            mask = np.zeros(size)\n",
    "            cv2.fillPoly(mask,[vert],color=255)\n",
    "            mask = mask.astype(np.uint16)\n",
    "            #mask.save('class'+str(classidx)+'obj'+str(objidx)+'.tif')\n",
    "\n",
    "            #math = Image.fromarray(mask)\n",
    "            mask_dst = '/home/kuki2070s2/PycharmProjects/TeamKyu/Sam/image_dst_tiles'\n",
    "            mask_fn = 'class'+str(classidx)+'obj'+str(objidx)+'.tif'\n",
    "            #mask.save(os.path.join(mask_dst,mask_fn))\n",
    "            cv2.imwrite(('class'+str(classidx)+'obj'+str(objidx)+'.tif'), mask)\n",
    "            region_fn = 'class'+str(classidx)+'obj'+str(objidx)+'.jpg'\n",
    "            region.convert('RGB').save(os.path.join(mask_dst,region_fn))"
   ],
   "metadata": {
    "collapsed": false,
    "pycharm": {
     "name": "#%%\n"
    }
   }
  },
  {
   "cell_type": "code",
   "execution_count": 68,
   "outputs": [
    {
     "ename": "TypeError",
     "evalue": "'OpenSlide' object is not subscriptable",
     "output_type": "error",
     "traceback": [
      "\u001B[0;31m---------------------------------------------------------------------------\u001B[0m",
      "\u001B[0;31mTypeError\u001B[0m                                 Traceback (most recent call last)",
      "\u001B[0;32m<ipython-input-68-572561901b92>\u001B[0m in \u001B[0;36m<module>\u001B[0;34m\u001B[0m\n\u001B[1;32m     13\u001B[0m     \u001B[0;32mfor\u001B[0m \u001B[0mj\u001B[0m \u001B[0;32min\u001B[0m \u001B[0mrange\u001B[0m\u001B[0;34m(\u001B[0m\u001B[0mint\u001B[0m\u001B[0;34m(\u001B[0m\u001B[0mmath\u001B[0m\u001B[0;34m.\u001B[0m\u001B[0mceil\u001B[0m\u001B[0;34m(\u001B[0m\u001B[0mmask_shape\u001B[0m\u001B[0;34m[\u001B[0m\u001B[0;36m1\u001B[0m\u001B[0;34m]\u001B[0m\u001B[0;34m/\u001B[0m\u001B[0;34m(\u001B[0m\u001B[0moffset\u001B[0m\u001B[0;34m[\u001B[0m\u001B[0;36m0\u001B[0m\u001B[0;34m]\u001B[0m\u001B[0;34m*\u001B[0m\u001B[0;36m1.0\u001B[0m\u001B[0;34m)\u001B[0m\u001B[0;34m)\u001B[0m\u001B[0;34m)\u001B[0m\u001B[0;34m)\u001B[0m\u001B[0;34m:\u001B[0m\u001B[0;34m\u001B[0m\u001B[0;34m\u001B[0m\u001B[0m\n\u001B[1;32m     14\u001B[0m        \u001B[0;31m#img[offset[1]*i:min(offset[1]*i+tile_size[1], img_shape[0]), offset[0]*j:min(offset[0]*j+tile_size[0], img_shape[1])]\u001B[0m\u001B[0;34m\u001B[0m\u001B[0;34m\u001B[0m\u001B[0;34m\u001B[0m\u001B[0m\n\u001B[0;32m---> 15\u001B[0;31m         \u001B[0mcrop\u001B[0m \u001B[0;34m=\u001B[0m \u001B[0mimg\u001B[0m\u001B[0;34m[\u001B[0m\u001B[0moffset\u001B[0m\u001B[0;34m[\u001B[0m\u001B[0;36m1\u001B[0m\u001B[0;34m]\u001B[0m\u001B[0;34m*\u001B[0m\u001B[0mi\u001B[0m\u001B[0;34m:\u001B[0m\u001B[0mmin\u001B[0m\u001B[0;34m(\u001B[0m\u001B[0moffset\u001B[0m\u001B[0;34m[\u001B[0m\u001B[0;36m1\u001B[0m\u001B[0;34m]\u001B[0m\u001B[0;34m*\u001B[0m\u001B[0mi\u001B[0m\u001B[0;34m+\u001B[0m\u001B[0mtiledim\u001B[0m\u001B[0;34m[\u001B[0m\u001B[0;36m1\u001B[0m\u001B[0;34m]\u001B[0m\u001B[0;34m,\u001B[0m\u001B[0mmask_shape\u001B[0m\u001B[0;34m[\u001B[0m\u001B[0;36m0\u001B[0m\u001B[0;34m]\u001B[0m\u001B[0;34m)\u001B[0m\u001B[0;34m,\u001B[0m \u001B[0moffset\u001B[0m\u001B[0;34m[\u001B[0m\u001B[0;36m0\u001B[0m\u001B[0;34m]\u001B[0m\u001B[0;34m*\u001B[0m\u001B[0mj\u001B[0m\u001B[0;34m:\u001B[0m\u001B[0mmin\u001B[0m\u001B[0;34m(\u001B[0m\u001B[0moffset\u001B[0m\u001B[0;34m[\u001B[0m\u001B[0;36m0\u001B[0m\u001B[0;34m]\u001B[0m\u001B[0;34m*\u001B[0m\u001B[0mj\u001B[0m\u001B[0;34m+\u001B[0m\u001B[0mtiledim\u001B[0m\u001B[0;34m[\u001B[0m\u001B[0;36m0\u001B[0m\u001B[0;34m]\u001B[0m\u001B[0;34m,\u001B[0m\u001B[0mmask_shape\u001B[0m\u001B[0;34m[\u001B[0m\u001B[0;36m1\u001B[0m\u001B[0;34m]\u001B[0m\u001B[0;34m)\u001B[0m\u001B[0;34m]\u001B[0m\u001B[0;34m\u001B[0m\u001B[0;34m\u001B[0m\u001B[0m\n\u001B[0m\u001B[1;32m     16\u001B[0m         \u001B[0;31m#cv2.imwrite(\"debug\"+\"_\"+str(j)+\".png\",crop)\u001B[0m\u001B[0;34m\u001B[0m\u001B[0;34m\u001B[0m\u001B[0;34m\u001B[0m\u001B[0m\n\u001B[1;32m     17\u001B[0m \u001B[0;34m\u001B[0m\u001B[0m\n",
      "\u001B[0;31mTypeError\u001B[0m: 'OpenSlide' object is not subscriptable"
     ]
    }
   ],
   "source": [
    "            #tiling\n",
    "            if np.min(mask.size) < 256:\n",
    "                mask_min = np.min(mask.size)\n",
    "                factor = 256/mask_min\n",
    "                #for x in mask.size:\n",
    "                    #mask.size = int(round(x*factor))\n",
    "                mask.size = [int(round(factor*x)) for x in mask.size]\n",
    "            tiledim = (256,256)\n",
    "            offset = (256,256)\n",
    "            mask_shape = mask.shape\n",
    "\n",
    "            for i in range(int(math.ceil(mask_shape[0]/(offset[1]*1.0)))):\n",
    "                for j in range(int(math.ceil(mask_shape[1]/(offset[0]*1.0)))):\n",
    "                   #img[offset[1]*i:min(offset[1]*i+tile_size[1], img_shape[0]), offset[0]*j:min(offset[0]*j+tile_size[0], img_shape[1])]\n",
    "                    crop = img[offset[1]*i:min(offset[1]*i+tiledim[1],mask_shape[0]), offset[0]*j:min(offset[0]*j+tiledim[0],mask_shape[1])]\n",
    "                    #cv2.imwrite(\"debug\"+\"_\"+str(j)+\".png\",crop)\n",
    "\n",
    "                    crop_dst = '/home/kuki2070s2/PycharmProjects/TeamKyu/Sam/image_dst_tiles'\n",
    "                    crop_fn = \"debug\"+\"_\"+str(j)+\".png\"\n",
    "                    crop.save(os.path.join(crop_dst,crop_fn))\n",
    "\n"
   ],
   "metadata": {
    "collapsed": false,
    "pycharm": {
     "name": "#%%\n"
    }
   }
  }
 ],
 "metadata": {
  "kernelspec": {
   "display_name": "Python 3",
   "language": "python",
   "name": "python3"
  },
  "language_info": {
   "codemirror_mode": {
    "name": "ipython",
    "version": 2
   },
   "file_extension": ".py",
   "mimetype": "text/x-python",
   "name": "python",
   "nbconvert_exporter": "python",
   "pygments_lexer": "ipython2",
   "version": "2.7.6"
  }
 },
 "nbformat": 4,
 "nbformat_minor": 0
}