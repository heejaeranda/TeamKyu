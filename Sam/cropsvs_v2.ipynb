{
 "cells": [
  {
   "cell_type": "code",
   "execution_count": 28,
   "metadata": {
    "collapsed": true
   },
   "outputs": [],
   "source": [
    "import os\n",
    "from openslide import OpenSlide\n",
    "import cv2\n",
    "import xml.etree.ElementTree as ET\n",
    "import numpy as np\n",
    "import pandas as pd\n",
    "import openslide\n"
   ]
  },
  {
   "cell_type": "code",
   "execution_count": 29,
   "outputs": [
    {
     "name": "stdout",
     "output_type": "stream",
     "text": [
      "<class 'str'>\n",
      "number of coordinates in annotation :  50139\n"
     ]
    }
   ],
   "source": [
    "src = '/home/kuki2070s2/PycharmProjects/TeamKyu/Michael/5619_Wirtz.Denis_OTS-19_5619-009.svs'\n",
    "#svss = [_ for _ in os.listdir(src) if _.endswith('svs')]\n",
    "#svs = svss[0]\n",
    "svs = src\n",
    "print(type(src))\n",
    "\n",
    "\n",
    "#svs = OpenSlide(os.path.join(src,svs))\n",
    "\n",
    "# xmls = [_ for _ in os.listdir(src) if _.endswith('xml')]\n",
    "xml = '/home/kuki2070s2/PycharmProjects/TeamKyu/Michael/5619_Wirtz.Denis_OTS-19_5619-009.xml'\n",
    "\n",
    "tree = ET.parse(os.path.join(src,xml))\n",
    "root = tree.getroot()\n",
    "# pre-allocate arrays of interest\n",
    "x = np.array([])\n",
    "y = np.array([])\n",
    "obj = np.array([])\n",
    "label = np.array([])\n",
    "\n",
    "for Annotation in root.iter('Annotation'):\n",
    "  for Region in Annotation.iter('Region'):\n",
    "     xx = np.array([int(Vertex.get('X')) for Vertex in Region.iter('Vertex')])\n",
    "     yy = np.array([int(Vertex.get('Y')) for Vertex in Region.iter('Vertex')])\n",
    "     objj = np.array([int(Region.get('Id'))]*len(xx))\n",
    "     labell = np.array([int(Annotation.get('Id'))]*len(xx))\n",
    "     x = np.concatenate((x,xx),axis=None)\n",
    "     y = np.concatenate((y,yy),axis=None)\n",
    "     obj = np.concatenate((obj,objj),axis=None)\n",
    "     label = np.concatenate((label,labell),axis=None)\n",
    "print('number of coordinates in annotation : ',len(x))\n",
    "mdict = {'x':x,'y':y,'objID':obj,'label':label}\n",
    "df = pd.DataFrame(mdict)"
   ],
   "metadata": {
    "collapsed": false,
    "pycharm": {
     "name": "#%%\n"
    }
   }
  },
  {
   "cell_type": "code",
   "execution_count": 30,
   "outputs": [
    {
     "name": "stderr",
     "output_type": "stream",
     "text": [
      "/home/kuki2070s2/anaconda3/envs/TF2Shared/lib/python3.7/site-packages/ipykernel_launcher.py:4: UserWarning: Boolean Series key will be reindexed to match DataFrame index.\n",
      "  after removing the cwd from sys.path.\n"
     ]
    }
   ],
   "source": [
    "for classidx, classid in enumerate(np.unique(df['label'])):\n",
    "    for objidx, objid in enumerate(np.unique(df['objID'])):\n",
    "        #if np.isnan(classid) and np.isnan(classid) != True:\n",
    "            object = df[df['label']==classid][df['objID']==objid]\n",
    "            x = object['x']\n",
    "            y = object['y']\n",
    "            xmin = np.min(x)\n",
    "            xmax = np.max(x)\n",
    "            ymin = np.min(y)\n",
    "            ymax = np.max(y)\n",
    "            width = xmax-xmin\n",
    "            height = ymax - ymin\n",
    "            if np.isnan(width) == False:\n",
    "                size = (int(width),int(height))\n",
    "                img= openslide.OpenSlide(svs)\n",
    "                region = img.read_region(location=(int(xmin),int(ymin)),level=0,size=size)\n",
    "                vert = np.array([[i-xmin,j-ymin] for i,j in zip(x,y)]).astype(np.int32)\n",
    "                mask = np.zeros(size)\n",
    "                cv2.fillPoly(mask,[vert],color=255)\n",
    "                #mask.save('class'+str(classidx)+'obj'+str(objidx)+'.tif')\n",
    "                cv2.imwrite(('class'+str(classidx)+'obj'+str(objidx)+'.tif'), mask)\n",
    "                rgbreg=region.convert('RGB')\n",
    "                rgbreg.save('class'+str(classidx)+'obj'+str(objidx)+'.jpg')\n",
    "\n",
    "\n"
   ],
   "metadata": {
    "collapsed": false,
    "pycharm": {
     "name": "#%%\n"
    }
   }
  }
 ],
 "metadata": {
  "kernelspec": {
   "display_name": "Python 3",
   "language": "python",
   "name": "python3"
  },
  "language_info": {
   "codemirror_mode": {
    "name": "ipython",
    "version": 2
   },
   "file_extension": ".py",
   "mimetype": "text/x-python",
   "name": "python",
   "nbconvert_exporter": "python",
   "pygments_lexer": "ipython2",
   "version": "2.7.6"
  }
 },
 "nbformat": 4,
 "nbformat_minor": 0
}