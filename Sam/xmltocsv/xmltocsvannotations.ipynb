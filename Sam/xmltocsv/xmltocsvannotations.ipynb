{
 "cells": [
  {
   "cell_type": "code",
   "execution_count": 53,
   "metadata": {
    "collapsed": true
   },
   "outputs": [],
   "source": [
    "import csv\n",
    "from xml.etree import ElementTree"
   ]
  },
  {
   "cell_type": "code",
   "execution_count": 45,
   "outputs": [],
   "source": [
    "#get the xml file\n",
    "tree = ElementTree.parse('5619_Wirtz.Denis_OTS-19_5619.xml')"
   ],
   "metadata": {
    "collapsed": false,
    "pycharm": {
     "name": "#%%\n"
    }
   }
  },
  {
   "cell_type": "code",
   "execution_count": 46,
   "outputs": [],
   "source": [
    "#create csv file\n",
    "cell_data = open('cell.csv','w', newline = '', encoding = 'utf-8')\n",
    "csvwriter = csv.writer(cell_data)"
   ],
   "metadata": {
    "collapsed": false,
    "pycharm": {
     "name": "#%%\n"
    }
   }
  },
  {
   "cell_type": "code",
   "execution_count": 47,
   "outputs": [
    {
     "data": {
      "text/plain": "22"
     },
     "execution_count": 47,
     "metadata": {},
     "output_type": "execute_result"
    }
   ],
   "source": [
    "#column names\n",
    "col_names= ['class','annotation','x', 'y']\n",
    "csvwriter.writerow(col_names)"
   ],
   "metadata": {
    "collapsed": false,
    "pycharm": {
     "name": "#%%\n"
    }
   }
  },
  {
   "cell_type": "code",
   "execution_count": 48,
   "outputs": [],
   "source": [
    "# part of getting xml file\n",
    "root = tree.getroot()\n"
   ],
   "metadata": {
    "collapsed": false,
    "pycharm": {
     "name": "#%%\n"
    }
   }
  },
  {
   "cell_type": "code",
   "execution_count": 49,
   "outputs": [],
   "source": [
    "#Got annotation id number into csv column 1\n",
    "\n",
    "for Annotation in root.findall('Annotation'):\n",
    "    ann_data = []\n",
    "    id = Annotation.get('Id')\n",
    "    ann_data.append(id)\n",
    "    csvwriter.writerow(ann_data)"
   ],
   "metadata": {
    "collapsed": false,
    "pycharm": {
     "name": "#%%\n"
    }
   }
  },
  {
   "cell_type": "code",
   "execution_count": 50,
   "outputs": [],
   "source": [
    "#not sure how to get to region\n",
    "    #for Region in root.findall('Region'):\n",
    "        #regionid = Region.get('Id')\n",
    "        #print(regionid)\n",
    "        #ann_data.append(regionid)\n",
    "\n",
    "        #for Region in root.findall('Region'):\n",
    "        #vertices = Region.get('Vertices')\n",
    "        #ann_data.append(vertices)"
   ],
   "metadata": {
    "collapsed": false,
    "pycharm": {
     "name": "#%%\n"
    }
   }
  },
  {
   "cell_type": "code",
   "execution_count": 51,
   "outputs": [],
   "source": [
    "#not sure how to get coordinates\n",
    "    #coordinates = Annotation.find('Vertex')\n",
    "    #if coordinates != None:\n",
    "        #coordinates = coordinates.text\n",
    "    #ann_data.append(coordinates)"
   ],
   "metadata": {
    "collapsed": false,
    "pycharm": {
     "name": "#%%\n"
    }
   }
  },
  {
   "cell_type": "code",
   "execution_count": 52,
   "outputs": [
    {
     "name": "stdout",
     "output_type": "stream",
     "text": [
      "(14, 4)\n",
      "    class  annotation   x   y\n",
      "0       1         NaN NaN NaN\n",
      "1       2         NaN NaN NaN\n",
      "2       3         NaN NaN NaN\n",
      "3       4         NaN NaN NaN\n",
      "4       5         NaN NaN NaN\n",
      "5       6         NaN NaN NaN\n",
      "6       7         NaN NaN NaN\n",
      "7       8         NaN NaN NaN\n",
      "8       9         NaN NaN NaN\n",
      "9      10         NaN NaN NaN\n",
      "10     11         NaN NaN NaN\n",
      "11     12         NaN NaN NaN\n",
      "12     13         NaN NaN NaN\n",
      "13     14         NaN NaN NaN\n"
     ]
    }
   ],
   "source": [
    "cell_data.close()\n",
    "\n",
    "import pandas\n",
    "\n",
    "dataframe = pandas.read_csv('cell.csv')\n",
    "\n",
    "print(dataframe.shape)\n",
    "print(dataframe)\n"
   ],
   "metadata": {
    "collapsed": false,
    "pycharm": {
     "name": "#%%\n"
    }
   }
  }
 ],
 "metadata": {
  "kernelspec": {
   "display_name": "Python 3",
   "language": "python",
   "name": "python3"
  },
  "language_info": {
   "codemirror_mode": {
    "name": "ipython",
    "version": 2
   },
   "file_extension": ".py",
   "mimetype": "text/x-python",
   "name": "python",
   "nbconvert_exporter": "python",
   "pygments_lexer": "ipython2",
   "version": "2.7.6"
  }
 },
 "nbformat": 4,
 "nbformat_minor": 0
}