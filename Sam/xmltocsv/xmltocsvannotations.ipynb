{
 "cells": [
  {
   "cell_type": "code",
   "execution_count": 2,
   "metadata": {
    "collapsed": true
   },
   "outputs": [],
   "source": [
    "import pandas as pd\n",
    "import xml.etree.ElementTree as ET\n",
    "import os\n",
    "import numpy as np"
   ]
  },
  {
   "cell_type": "code",
   "execution_count": 6,
   "outputs": [
    {
     "data": {
      "text/plain": "['C:\\\\Users\\\\kyuha\\\\PycharmProjects\\\\TeamKyu\\\\Sam\\\\xmltocsv\\\\5619_Wirtz.Denis_OTS-19_5619-009.xml']"
     },
     "execution_count": 6,
     "metadata": {},
     "output_type": "execute_result"
    }
   ],
   "source": [
    "src = r'C:\\Users\\kyuha\\PycharmProjects\\TeamKyu\\Sam\\xmltocsv'\n",
    "# list comprehension\n",
    "xmls = [_ for _ in os.listdir(src) if _.endswith('.xml')]\n",
    "xmls_path = [os.path.join(src,_) for _ in xmls]"
   ],
   "metadata": {
    "collapsed": false,
    "pycharm": {
     "name": "#%%\n"
    }
   }
  },
  {
   "cell_type": "code",
   "execution_count": null,
   "outputs": [],
   "source": [
    "# xmls=[]\n",
    "# for _ in os.listdir(src):\n",
    "#     if _.endswith('.xml'):\n",
    "#         xmls.append(_)"
   ],
   "metadata": {
    "collapsed": false,
    "pycharm": {
     "name": "#%%\n"
    }
   }
  },
  {
   "cell_type": "code",
   "execution_count": 11,
   "outputs": [
    {
     "data": {
      "text/plain": "'C:\\\\Users\\\\kyuha\\\\PycharmProjects\\\\TeamKyu\\\\Sam\\\\xmltocsv\\\\5619_Wirtz.Denis_OTS-19_5619-009.xml'"
     },
     "execution_count": 11,
     "metadata": {},
     "output_type": "execute_result"
    }
   ],
   "source": [
    "xml_path = xmls_path[0]\n",
    "xml_path"
   ],
   "metadata": {
    "collapsed": false,
    "pycharm": {
     "name": "#%%\n"
    }
   }
  },
  {
   "cell_type": "code",
   "execution_count": 13,
   "outputs": [],
   "source": [
    "# open xml file\n",
    "tree = ET.parse(xml_path)\n",
    "root = tree.getroot()\n",
    "# pre-allocate x,y,objID,classID\n",
    "x = np.array([])\n",
    "y = np.array([])\n",
    "objID = np.array([])\n",
    "classID = np.array([])\n",
    "# iterate thru class\n",
    "for Annotation in root.iter('Annotation'):\n",
    "    # iterate thru object\n",
    "  for Region in Annotation.iter('Region'):\n",
    "      # iterate thru vertex\n",
    "     xx = np.array([int(Vertex.get('X')) for Vertex in Region.iter('Vertex')])\n",
    "     yy = np.array([int(Vertex.get('Y')) for Vertex in Region.iter('Vertex')])\n",
    "     objIDj = np.array([int(Region.get('Id'))]*len(xx))\n",
    "     classIDl = np.array([int(Annotation.get('Id'))]*len(xx))\n",
    "     x = np.concatenate((x,xx),axis=None)\n",
    "     y = np.concatenate((y,yy),axis=None)\n",
    "     objID = np.concatenate((objID,objIDj),axis=None)\n",
    "     classID = np.concatenate((classID,classIDl),axis=None)\n",
    "print('number of coordinates in annotation : ',len(x))\n",
    "mdict = {'x':x,'y':y,'objID':objID,'classID':classID}"
   ],
   "metadata": {
    "collapsed": false,
    "pycharm": {
     "name": "#%%\n"
    }
   }
  },
  {
   "cell_type": "code",
   "execution_count": 15,
   "outputs": [],
   "source": [
    "# using pandas to save dictionary into csv\n",
    "df = pd.DataFrame(mdict)"
   ],
   "metadata": {
    "collapsed": false,
    "pycharm": {
     "name": "#%%\n"
    }
   }
  },
  {
   "cell_type": "code",
   "execution_count": 17,
   "outputs": [
    {
     "data": {
      "text/plain": "Index(['x', 'y', 'objID', 'label'], dtype='object')"
     },
     "execution_count": 17,
     "metadata": {},
     "output_type": "execute_result"
    }
   ],
   "source": [
    "header = df.columns"
   ],
   "metadata": {
    "collapsed": false,
    "pycharm": {
     "name": "#%%\n"
    }
   }
  },
  {
   "cell_type": "code",
   "execution_count": 18,
   "outputs": [],
   "source": [
    "fn = xmls[0].replace('xml','csv')\n",
    "dst = os.path.join(src,fn)\n",
    "df.to_csv(dst,header=header)"
   ],
   "metadata": {
    "collapsed": false,
    "pycharm": {
     "name": "#%%\n"
    }
   }
  },
  {
   "cell_type": "code",
   "execution_count": 49,
   "outputs": [],
   "source": [
    "#Got annotation id number into csv column 1\n",
    "\n",
    "# for Annotation in root.findall('Annotation'):\n",
    "#     ann_data = []\n",
    "#     id = Annotation.get('Id')\n",
    "#     ann_data.append(id)\n",
    "#     csvwriter.writerow(ann_data)\n",
    "\n"
   ],
   "metadata": {
    "collapsed": false,
    "pycharm": {
     "name": "#%%\n"
    }
   }
  }
 ],
 "metadata": {
  "kernelspec": {
   "display_name": "Python 3",
   "language": "python",
   "name": "python3"
  },
  "language_info": {
   "codemirror_mode": {
    "name": "ipython",
    "version": 2
   },
   "file_extension": ".py",
   "mimetype": "text/x-python",
   "name": "python",
   "nbconvert_exporter": "python",
   "pygments_lexer": "ipython2",
   "version": "2.7.6"
  }
 },
 "nbformat": 4,
 "nbformat_minor": 0
}