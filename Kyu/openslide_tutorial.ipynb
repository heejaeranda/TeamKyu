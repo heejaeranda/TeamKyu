{
 "cells": [
  {
   "cell_type": "code",
   "execution_count": 1,
   "metadata": {
    "collapsed": true
   },
   "outputs": [],
   "source": [
    "import os\n",
    "import openslide\n",
    "import cv2\n",
    "import xml.etree.ElementTree as ET\n",
    "import numpy as np\n",
    "import pandas as pd"
   ]
  },
  {
   "cell_type": "code",
   "execution_count": 14,
   "outputs": [
    {
     "data": {
      "text/plain": "'\\\\\\\\kukissd\\\\research\\\\aging\\\\undergrad_replicate_data\\\\svs\\\\heejae\\\\age_group2\\\\5619_Wirtz.Denis_OTS-19_5619-035.svs'"
     },
     "execution_count": 14,
     "metadata": {},
     "output_type": "execute_result"
    }
   ],
   "source": [
    "src = r'\\\\kukissd\\research\\aging\\undergrad_replicate_data\\svs\\heejae\\age_group2'\n",
    "svs_fn = '5619_Wirtz.Denis_OTS-19_5619-035.svs'\n",
    "os.path.join(src,svs_fn)"
   ],
   "metadata": {
    "collapsed": false,
    "pycharm": {
     "name": "#%%\n"
    }
   }
  },
  {
   "cell_type": "code",
   "execution_count": 3,
   "outputs": [
    {
     "data": {
      "text/plain": "((75695, 47287), (18923, 11821), (4730, 2955), (2365, 1477))"
     },
     "execution_count": 3,
     "metadata": {},
     "output_type": "execute_result"
    }
   ],
   "source": [
    "svs_pth = os.path.join(src,svs_fn)\n",
    "svs = openslide.OpenSlide(svs_pth)\n",
    "svs.level_dimensions"
   ],
   "metadata": {
    "collapsed": false,
    "pycharm": {
     "name": "#%%\n"
    }
   }
  },
  {
   "cell_type": "code",
   "execution_count": 7,
   "outputs": [],
   "source": [
    "region = svs.read_region(location=(0,0),level=3,size=svs.level_dimensions[3])"
   ],
   "metadata": {
    "collapsed": false,
    "pycharm": {
     "name": "#%%\n"
    }
   }
  },
  {
   "cell_type": "code",
   "execution_count": 8,
   "outputs": [],
   "source": [
    "region.save('region.png')"
   ],
   "metadata": {
    "collapsed": false,
    "pycharm": {
     "name": "#%%\n"
    }
   }
  },
  {
   "cell_type": "code",
   "execution_count": 15,
   "outputs": [
    {
     "data": {
      "text/plain": "'5619_Wirtz.Denis_OTS-19_5619-035.xml'"
     },
     "execution_count": 15,
     "metadata": {},
     "output_type": "execute_result"
    }
   ],
   "source": [
    "xml_fn = svs_fn.replace('svs','xml')\n",
    "xml_fn"
   ],
   "metadata": {
    "collapsed": false,
    "pycharm": {
     "name": "#%%\n"
    }
   }
  },
  {
   "cell_type": "code",
   "execution_count": 17,
   "outputs": [],
   "source": [
    "xml_pth = os.path.join(src,xml_fn)"
   ],
   "metadata": {
    "collapsed": false,
    "pycharm": {
     "name": "#%%\n"
    }
   }
  },
  {
   "cell_type": "code",
   "execution_count": null,
   "outputs": [],
   "source": [
    "tree = ET.parse(xml_pth)\n",
    "root = tree.getroot()\n",
    "# pre-allocate arrays of interest\n",
    "x = np.array([])\n",
    "y = np.array([])\n",
    "obj = np.array([])\n",
    "label = np.array([])\n",
    "\n",
    "# iterate through class and object\n",
    "for Annotation in root.iter('Annotation'):\n",
    "  for Region in Annotation.iter('Region'):\n",
    "     # items of interest\n",
    "     xx = np.array([int(Vertex.get('X')) for Vertex in Region.iter('Vertex')])\n",
    "     yy = np.array([int(Vertex.get('Y')) for Vertex in Region.iter('Vertex')])\n",
    "     objj = np.array([int(Region.get('Id'))]*len(xx))\n",
    "     labell = np.array([int(Annotation.get('Id'))]*len(xx))\n",
    "     # concatenate to array\n",
    "     x = np.concatenate((x,xx),axis=None)\n",
    "     y = np.concatenate((y,yy),axis=None)\n",
    "     obj = np.concatenate((obj,objj),axis=None)\n",
    "     label = np.concatenate((label,labell),axis=None)\n",
    "dict = {'x':x,'y':y,'objID':obj,'label':label}\n",
    "df = pd.DataFrame(dict)"
   ],
   "metadata": {
    "collapsed": false,
    "pycharm": {
     "name": "#%%\n"
    }
   }
  },
  {
   "cell_type": "code",
   "execution_count": null,
   "outputs": [],
   "source": [
    "for classidx, classid in enumerate(np.unique(df['label'])):\n",
    "    for objidx, objid in enumerate(np.unique(df['objID'])):\n",
    "        try:\n",
    "            object = df[df['label']==classid][df['objID']==objid]\n",
    "            x = object['x']\n",
    "            y = object['y']\n",
    "            xmin = np.min(x)\n",
    "            xmax = np.max(x)\n",
    "            ymin = np.min(y)\n",
    "            ymax = np.max(y)\n",
    "            size = (int(xmax-xmin),int(ymax-ymin))\n",
    "\n",
    "            region = np.array(svs.read_region(location=(int(xmin),int(ymin)),level=0,size=size))\n",
    "            vert = np.array([[i-xmin,j-ymin] for i,j in zip(x,y)]).astype(np.int32)\n",
    "            mask = np.zeros((size[1],size[0]), dtype=np.uint8)\n",
    "            cv2.fillPoly(mask,[vert],color=255)\n",
    "            cv2.imwrite('class'+str(classidx)+'obj'+str(objidx)+'.tif', mask)\n",
    "            cv2.imwrite('class'+str(classidx)+'obj'+str(objidx)+'.jpg', region)\n",
    "            if np.min(mask.size) < 256:\n",
    "                x_centroid = np.sum(x)/len(x)\n",
    "                y_centroid = np.sum(y)/len(y)\n",
    "                l,r = x_centroid - 128, x_centroid + 128\n",
    "                u,d = y_centroid - 128, y_centroid + 128\n",
    "                mask = np.zeros(((d - u), (r - l)), dtype=np.uint8)\n",
    "                # multiplier = 256 / np.min(mask.size)\n",
    "                # mask.size = [int(round(multiplier*x)) for x in mask.size]\n",
    "                # region.size = [int(round(multiplier*x)) for x in region.size]\n",
    "            else:\n",
    "                tile_size = (256, 256)\n",
    "                offset = (256, 256)\n",
    "                img = mask\n",
    "                img_shape = mask.shape\n",
    "                for i in range(int(np.floor(img_shape[0]/(offset[1] * 1.0)))):\n",
    "                    for j in range(int(np.floor(img_shape[1]/(offset[0] * 1.0)))):\n",
    "                        cropped_img = img[offset[1]*i:min(offset[1]*i+tile_size[1], img_shape[0]), offset[0]*j:min(offset[0]*j+tile_size[0], img_shape[1])]\n",
    "                        cv2.imwrite(\"class\" + str(classid) + \"object\" + str(objid) + \"_\" + str(i) + \"_\" + str(j) + \"mask\" + \".png\", cropped_img)\n",
    "                img = region\n",
    "                img_shape = region.shape\n",
    "                for i in range(int(np.floor(img_shape[0]/(offset[1] * 1.0)))):\n",
    "                    for j in range(int(np.floor(img_shape[1]/(offset[0] * 1.0)))):\n",
    "                        cropped_img = img[offset[1]*i:min(offset[1]*i+tile_size[1], img_shape[0]), offset[0]*j:min(offset[0]*j+tile_size[0], img_shape[1])]\n",
    "                        cv2.imwrite(\"class\" + str(classid) + \"object\" + str(objid) + \"_\" + str(i) + \"_\" + str(j) + \"image\" + \".png\", cropped_img)\n",
    "        except: continue"
   ],
   "metadata": {
    "collapsed": false,
    "pycharm": {
     "name": "#%%\n"
    }
   }
  }
 ],
 "metadata": {
  "kernelspec": {
   "display_name": "Python 3",
   "language": "python",
   "name": "python3"
  },
  "language_info": {
   "codemirror_mode": {
    "name": "ipython",
    "version": 2
   },
   "file_extension": ".py",
   "mimetype": "text/x-python",
   "name": "python",
   "nbconvert_exporter": "python",
   "pygments_lexer": "ipython2",
   "version": "2.7.6"
  }
 },
 "nbformat": 4,
 "nbformat_minor": 0
}