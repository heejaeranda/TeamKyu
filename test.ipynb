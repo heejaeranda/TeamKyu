{
 "cells": [
  {
   "cell_type": "code",
   "execution_count": 65,
   "outputs": [
    {
     "data": {
      "text/plain": "28.84527690974729"
     },
     "execution_count": 65,
     "metadata": {},
     "output_type": "execute_result"
    }
   ],
   "source": [
    "import numpy as np\n",
    "np.sqrt(2000)*0.3225"
   ],
   "metadata": {
    "collapsed": false,
    "pycharm": {
     "name": "#%%\n"
    }
   }
  },
  {
   "cell_type": "code",
   "execution_count": null,
   "outputs": [],
   "source": [
    "(np.sqrt(2000)*0.3225)*(np.sqrt(2000)*0.3225)"
   ],
   "metadata": {
    "collapsed": false,
    "pycharm": {
     "name": "#%%\n"
    }
   }
  },
  {
   "cell_type": "code",
   "execution_count": 64,
   "outputs": [
    {
     "data": {
      "text/plain": "832.0500000000001"
     },
     "execution_count": 64,
     "metadata": {},
     "output_type": "execute_result"
    }
   ],
   "source": [
    "2000*0.3225*0.3225"
   ],
   "metadata": {
    "collapsed": false,
    "pycharm": {
     "name": "#%%\n"
    }
   }
  },
  {
   "cell_type": "code",
   "execution_count": 66,
   "outputs": [
    {
     "data": {
      "text/plain": "832.0500000000001"
     },
     "execution_count": 66,
     "metadata": {},
     "output_type": "execute_result"
    }
   ],
   "source": [
    "2000*0.3225**2"
   ],
   "metadata": {
    "collapsed": false,
    "pycharm": {
     "name": "#%%\n"
    }
   }
  },
  {
   "cell_type": "code",
   "execution_count": 81,
   "metadata": {
    "pycharm": {
     "name": "#%%\n"
    }
   },
   "outputs": [
    {
     "data": {
      "text/plain": "<Figure size 144x288 with 1 Axes>",
      "image/png": "[encoded data removed]"
     },
     "metadata": {
      "needs_background": "light"
     },
     "output_type": "display_data"
    }
   ],
   "source": [
    "from matplotlib import pyplot as plt\n",
    "import seaborn as sns\n",
    "\n",
    "y_area = [1664.77\t,1706.83,\t2064.64,\t1711.463,\t1687.646]\n",
    "y_area = [_*0.28**2 for _ in y_area]\n",
    "o_area = [2057.75\t,2225.73\t,2363.49\t,2191.506,\t2478.309]\n",
    "o_area = [_*0.28**2 for _ in o_area]\n",
    "df = [y_area,o_area]\n",
    "fig,ax=plt.subplots(figsize=(2, 4))\n",
    "\n",
    "meanpointprops = dict(marker='+', markeredgecolor='red')\n",
    "boxprops = dict(linestyle='-', linewidth=2, color='blue')\n",
    "medianprops = dict(linestyle='-', linewidth=2, color='firebrick')\n",
    "ax.boxplot(df, widths=0.6,showmeans=True,meanprops=meanpointprops,boxprops=boxprops,medianprops=medianprops, showfliers=False)\n",
    "ax.set_xticklabels(['young','old'])\n",
    "plt.show()"
   ]
  },
  {
   "cell_type": "code",
   "execution_count": 73,
   "metadata": {
    "collapsed": false,
    "jupyter": {
     "outputs_hidden": false
    },
    "pycharm": {
     "name": "#%%\n"
    }
   },
   "outputs": [
    {
     "data": {
      "text/plain": "<Figure size 144x288 with 1 Axes>",
      "image/png": "[encoded data removed]"
     },
     "metadata": {
      "needs_background": "light"
     },
     "output_type": "display_data"
    }
   ],
   "source": [
    "y_area = [1.37\t,1.45\t,1.72\t,1.36,\t1.73]\n",
    "o_area = [1.52\t,1.54\t,1.43\t,1.59\t,1.54]\n",
    "df = [y_area,o_area]\n",
    "fig,ax=plt.subplots(figsize=(2, 4))\n",
    "meanpointprops = dict(marker='+', markeredgecolor='red')\n",
    "boxprops = dict(linestyle='-', linewidth=2, color='blue')\n",
    "medianprops = dict(linestyle='-', linewidth=2, color='firebrick')\n",
    "ax.boxplot(df, widths=0.75,showmeans=True,meanprops=meanpointprops,boxprops=boxprops,medianprops=medianprops, showfliers=False)\n",
    "ax.set_xticklabels(['young','old'])\n",
    "plt.show()"
   ]
  },
  {
   "cell_type": "code",
   "execution_count": 56,
   "metadata": {
    "collapsed": false,
    "jupyter": {
     "outputs_hidden": false
    },
    "pycharm": {
     "name": "#%%\n"
    }
   },
   "outputs": [
    {
     "data": {
      "text/plain": "<Figure size 144x288 with 1 Axes>",
      "image/png": "[encoded data removed]"
     },
     "metadata": {
      "needs_background": "light"
     },
     "output_type": "display_data"
    }
   ],
   "source": [
    "y_area = [0.85,\t0.84\t,0.80\t,0.891,\t0.778]\n",
    "o_area = [0.73\t,0.63\t,0.84\t,0.601\t,0.778]\n",
    "df = [y_area,o_area]\n",
    "fig,ax=plt.subplots(figsize=(2, 4))\n",
    "meanpointprops = dict(marker='+', markeredgecolor='red')\n",
    "boxprops = dict(linestyle='-', linewidth=2, color='blue')\n",
    "medianprops = dict(linestyle='-', linewidth=2, color='firebrick')\n",
    "ax.boxplot(df, widths=0.75,showmeans=True,meanprops=meanpointprops,boxprops=boxprops,medianprops=medianprops, showfliers=False)\n",
    "ax.set_xticklabels(['young','old'])\n",
    "plt.show()"
   ]
  }
 ],
 "metadata": {
  "kernelspec": {
   "display_name": "Python 3",
   "language": "python",
   "name": "python3"
  },
  "language_info": {
   "codemirror_mode": {
    "name": "ipython",
    "version": 3
   },
   "file_extension": ".py",
   "mimetype": "text/x-python",
   "name": "python",
   "nbconvert_exporter": "python",
   "pygments_lexer": "ipython3",
   "version": "3.7.7"
  }
 },
 "nbformat": 4,
 "nbformat_minor": 4
}