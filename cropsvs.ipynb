{
 "cells": [
  {
   "cell_type": "code",
   "execution_count": null,
   "metadata": {
    "collapsed": true
   },
   "outputs": [],
   "source": [
    "import os\n",
    "from openslide import OpenSlide"
   ]
  },
  {
   "cell_type": "code",
   "execution_count": null,
   "outputs": [],
   "source": [
    "pth = r'C:\\Users\\kyuha\\Desktop\\downloadfromlab'\n",
    "items = [_ for _ in os.listdir(pth) if _.endswith('svs')]\n",
    "item = items[0]\n",
    "svs = OpenSlide(os.path.join(pth,item))"
   ],
   "metadata": {
    "collapsed": false,
    "pycharm": {
     "name": "#%%\n"
    }
   }
  },
  {
   "cell_type": "code",
   "execution_count": null,
   "outputs": [],
   "source": [
    "svs.level_count\n",
    "svs.dimensions\n",
    "svs.level_dimensions\n",
    "svs.level_downsamples\n",
    "svs.properties\n",
    "svs.associated_images"
   ],
   "metadata": {
    "collapsed": false,
    "pycharm": {
     "name": "#%%\n"
    }
   }
  },
  {
   "cell_type": "code",
   "execution_count": null,
   "outputs": [],
   "source": [
    "svs.associated_images['label']\n",
    "svs.associated_images['thumbnail']"
   ],
   "metadata": {
    "collapsed": false,
    "pycharm": {
     "name": "#%%\n"
    }
   }
  },
  {
   "cell_type": "code",
   "execution_count": null,
   "outputs": [],
   "source": [
    "svs.level_dimensions\n",
    "# level 0,1,2,3"
   ],
   "metadata": {
    "collapsed": false,
    "pycharm": {
     "name": "#%%\n"
    }
   }
  },
  {
   "cell_type": "code",
   "execution_count": null,
   "outputs": [],
   "source": [
    "top = 0\n",
    "left = 0\n",
    "level = 1\n",
    "size = (6000,6000)\n",
    "location = (left,top)\n",
    "region = svs.read_region(location, level, size)"
   ],
   "metadata": {
    "collapsed": false,
    "pycharm": {
     "name": "#%%\n"
    }
   }
  },
  {
   "cell_type": "code",
   "execution_count": null,
   "outputs": [],
   "source": [
    "region"
   ],
   "metadata": {
    "collapsed": false,
    "pycharm": {
     "name": "#%%\n"
    }
   }
  },
  {
   "cell_type": "code",
   "execution_count": 5,
   "outputs": [
    {
     "data": {
      "text/plain": "'5619_Wirtz.Denis_OTS-19_5619-018.xml'"
     },
     "execution_count": 5,
     "metadata": {},
     "output_type": "execute_result"
    }
   ],
   "source": [
    "import xml.etree.ElementTree as ET\n",
    "import numpy as np\n",
    "import pandas as pd\n",
    "import os\n",
    "pth = r'C:\\Users\\kyuha\\Desktop\\downloadfromlab'\n",
    "xmls = [_ for _ in os.listdir(pth) if _.endswith('xml')]\n",
    "xml = xmls[0]\n",
    "xml"
   ],
   "metadata": {
    "collapsed": false,
    "pycharm": {
     "name": "#%%\n"
    }
   }
  },
  {
   "cell_type": "code",
   "execution_count": 8,
   "outputs": [],
   "source": [
    "tree = ET.parse(os.path.join(pth,xml))\n",
    "root = tree.getroot()\n",
    "# pre-allocate arrays of interest\n",
    "x = np.array([])\n",
    "y = np.array([])\n",
    "obj = np.array([])\n",
    "label = np.array([])"
   ],
   "metadata": {
    "collapsed": false,
    "pycharm": {
     "name": "#%%\n"
    }
   }
  },
  {
   "cell_type": "markdown",
   "source": [
    "## CSV/ pandas dataframe structure\n",
    "1st column = tissue type/class (1~14)\n",
    "2nd column = annotation ID (1~nn) / # of circles\n",
    "3rd column = x-coordinate\n",
    "4th column = y-coordinate\n",
    "\n",
    "1   1   x1  y1\n",
    "1   1   x2  y2\n",
    "\n",
    "If you want to crop svs with 1st class, 1st annotation circle,\n",
    "you can index 0 in 1st column and 0 in 2nd column, get all x,y coordinate\n",
    "find min and max of x and y to get bounding box. and crop using read_region."
   ],
   "metadata": {
    "collapsed": false,
    "pycharm": {
     "name": "#%% md\n"
    }
   }
  },
  {
   "cell_type": "code",
   "execution_count": null,
   "outputs": [],
   "source": [
    "for Annotation in root.iter('Annotation'):\n",
    "  for Region in Annotation.iter('Region'):\n",
    "     xx = np.array([int(Vertex.get('X')) for Vertex in Region.iter('Vertex')])\n",
    "     yy = np.array([int(Vertex.get('Y')) for Vertex in Region.iter('Vertex')])\n",
    "     objj = np.array([int(Region.get('Id'))]*len(xx))\n",
    "     labell = np.array([int(Annotation.get('Id'))]*len(xx))\n",
    "     x = np.concatenate((x,xx),axis=None)\n",
    "     y = np.concatenate((y,yy),axis=None)\n",
    "     obj = np.concatenate((obj,objj),axis=None)\n",
    "     label = np.concatenate((label,labell),axis=None)\n",
    "print('number of coordinates in annotation : ',len(x))\n",
    "mdict = {'x':x,'y':y,'objID':obj,'label':label}\n",
    "df = pd.DataFrame(mdict)\n",
    "df.to_csv(index_label=['',''],header=['','',''])"
   ],
   "metadata": {
    "collapsed": false,
    "pycharm": {
     "name": "#%%\n"
    }
   }
  },
  {
   "cell_type": "markdown",
   "source": [
    "create new dataframe with bounding box coordinates\n",
    "\n",
    "Example Dataframe structure for list of bounding boxes\n",
    "\n",
    "classID objectID    minx    miny    maxx    maxy\n",
    "    1       1       minx1  miny1    maxx1   maxy1\n",
    "    1       2       minx1  miny1    maxx2   maxy2"
   ],
   "metadata": {
    "collapsed": false,
    "pycharm": {
     "name": "#%% md\n"
    }
   }
  },
  {
   "cell_type": "code",
   "execution_count": null,
   "outputs": [],
   "source": [
    "import pillow\n",
    "for bounding_box in df2:\n",
    "    top = bounding_box['miny']\n",
    "    left = bounding_box['minx']\n",
    "    level = 1\n",
    "    size = (maxx-minx,maxy-miny)\n",
    "    location = (left,top)\n",
    "    region = svs.read_region(location, level, size)\n",
    "    region.save('filenameeijdvnjs.jpeg',\"JPEG\")"
   ],
   "metadata": {
    "collapsed": false,
    "pycharm": {
     "name": "#%%\n"
    }
   }
  },
  {
   "cell_type": "markdown",
   "source": [
    "read the saved bounding boxes and crop into fixed size tiles (224x224)\n",
    "tile size depends on your CNN model.\n",
    "\n",
    "you could crop bounding boxes before saving it. try to crop into tiles only on the\n",
    "annotated region in the bounding boxes and save tiles."
   ],
   "metadata": {
    "collapsed": false,
    "pycharm": {
     "name": "#%% md\n"
    }
   }
  },
  {
   "cell_type": "markdown",
   "source": [
    "label class and object ID into filename or save them into subfolders with labels."
   ],
   "metadata": {
    "collapsed": false,
    "pycharm": {
     "name": "#%% md\n"
    }
   }
  }
 ],
 "metadata": {
  "kernelspec": {
   "display_name": "Python 3",
   "language": "python",
   "name": "python3"
  },
  "language_info": {
   "codemirror_mode": {
    "name": "ipython",
    "version": 2
   },
   "file_extension": ".py",
   "mimetype": "text/x-python",
   "name": "python",
   "nbconvert_exporter": "python",
   "pygments_lexer": "ipython2",
   "version": "2.7.6"
  }
 },
 "nbformat": 4,
 "nbformat_minor": 0
}